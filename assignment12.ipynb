{
 "cells": [
  {
   "cell_type": "code",
   "execution_count": null,
   "id": "55dcead0-09f3-4ff1-8fc2-e2362b3c99bf",
   "metadata": {},
   "outputs": [],
   "source": [
    "\"\"\"  exception in python\n",
    "1-Built-in exception\n",
    "2- Base exception\n",
    "3- handling exception\n",
    "   \n",
    "   exception vs error\n",
    "* an exception is an error that can be handled by a programmer.\n",
    "* an exception which are not handled by programmer than it become error."
   ]
  },
  {
   "cell_type": "code",
   "execution_count": 4,
   "id": "dfb0e55e-c5e9-451c-be1e-9d70ffaedf9e",
   "metadata": {},
   "outputs": [
    {
     "name": "stdin",
     "output_type": "stream",
     "text": [
      "enter number: 1\n"
     ]
    },
    {
     "name": "stdout",
     "output_type": "stream",
     "text": [
      "1\n",
      "hello\n"
     ]
    }
   ],
   "source": [
    "\"\"\" when exception is not handled then it will not execute the file where exception raise it will terminate the function thats why use some \n",
    "exception method\"\"\"\n",
    "#exampl\n",
    "a=int(input(\"enter number:\"))\n",
    "print(a)\n",
    "\n",
    "print(\"hello\")  \n",
    "\"\"\"here if we give in input any string then it will show some exception.if exception raise than it will not execute the other function or \n",
    "variable\"\"\""
   ]
  },
  {
   "cell_type": "code",
   "execution_count": null,
   "id": "ab12d557-8413-45c9-a8f7-7547919195ae",
   "metadata": {},
   "outputs": [],
   "source": [
    "## try and except block in python is used to catch and handle exceptions.\n",
    "#example \n",
    "try:\n",
    "    a=int(input(\"enter a number:\"))\n",
    "    b=int(input(\"enter a number:\"))\n",
    "    c=a/b\n",
    "    print(\"result:\",c)\n",
    "except ZeroDivisionError as e:\n",
    "    print(\"divide by zero is not valid\")\n",
    "except ValueError as e:\n",
    "    print(\"enterd value is not a number\")\n",
    "else:\n",
    "    print(\"no exception\")\n",
    "finally:\n",
    "    print(\"finally\")\n",
    "\n",
    "print(\"hello\")"
   ]
  },
  {
   "cell_type": "code",
   "execution_count": 3,
   "id": "c00bab9e-80e5-4fed-9563-10716ed19c0a",
   "metadata": {},
   "outputs": [
    {
     "name": "stdin",
     "output_type": "stream",
     "text": [
      "enter number: 10\n",
      "enter another number: 0\n"
     ]
    },
    {
     "name": "stdout",
     "output_type": "stream",
     "text": [
      "cannot divide a number\n",
      "my code will run in all cases\n"
     ]
    }
   ],
   "source": [
    "try:\n",
    "    a=int(input(\"enter number:\"))\n",
    "    b=int(input(\"enter another number:\"))\n",
    "    if b==0:\n",
    "        raise ZeroDivisionError(\"cannot divide a number\")\n",
    "        c=a/b\n",
    "        print(c)\n",
    "except ZeroDivisionError as e:\n",
    "    print(e)\n",
    "else:\n",
    "    print(\"no exception\")\n",
    "finally:\n",
    "    print(\"my code will run in all cases\")"
   ]
  },
  {
   "cell_type": "code",
   "execution_count": null,
   "id": "5e70f681-3b22-478c-9868-12cca0e033d9",
   "metadata": {},
   "outputs": [],
   "source": [
    "\"\"\" custom exception\n",
    " \n",
    "custom exception are named as user-defined exceptions.it means user can set their own exception here.\n",
    "1-you can define your own exception class.\n",
    "2- you  need to define your exception\n",
    "3- class by inheriting attributes of the exception classs\"\"\n"
   ]
  },
  {
   "cell_type": "code",
   "execution_count": 9,
   "id": "4b87ba79-d5b1-4805-954e-cf28dcd941ef",
   "metadata": {},
   "outputs": [
    {
     "name": "stdout",
     "output_type": "stream",
     "text": [
      "your current balance is 500\n",
      "InsufficientBalance\n"
     ]
    }
   ],
   "source": [
    "class InsufficientBalance(Exception):\n",
    "    def __init__(self,errmsg):\n",
    "        self.errmsg=errmsg\n",
    "    def __str__(self):\n",
    "        return self.errmsg\n",
    "class Account:\n",
    "    def __init__(self,account,bal):\n",
    "        self.account=account\n",
    "        self.balance=bal\n",
    "    def showBalance(self):\n",
    "        print(\"your current balance is\",self.balance)\n",
    "    def withdraw(self,amt):\n",
    "            if self.balance<amt:\n",
    "                   raise InsufficientBalance(\"InsufficientBalance\")\n",
    "            self.balance= self.balance-amt\n",
    "            print(\"you have withdrawn\",amt)\n",
    "my_account=Account(100,500)\n",
    "my_account.showBalance()\n",
    "try:\n",
    "    my_account.withdraw(700)\n",
    "except InsufficientBalance as e:\n",
    "    print(e)\n",
    "        "
   ]
  },
  {
   "cell_type": "markdown",
   "id": "12694460-bc8b-4c9f-8ea0-8c2e050a1195",
   "metadata": {},
   "source": []
  }
 ],
 "metadata": {
  "kernelspec": {
   "display_name": "Python 3 (ipykernel)",
   "language": "python",
   "name": "python3"
  },
  "language_info": {
   "codemirror_mode": {
    "name": "ipython",
    "version": 3
   },
   "file_extension": ".py",
   "mimetype": "text/x-python",
   "name": "python",
   "nbconvert_exporter": "python",
   "pygments_lexer": "ipython3",
   "version": "3.10.8"
  }
 },
 "nbformat": 4,
 "nbformat_minor": 5
}
